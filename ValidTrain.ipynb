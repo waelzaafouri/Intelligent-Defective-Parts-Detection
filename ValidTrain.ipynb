{
  "cells": [
    {
      "cell_type": "code",
      "execution_count": null,
      "metadata": {
        "colab": {
          "base_uri": "https://localhost:8080/"
        },
        "id": "6x1vXsjaXYI7",
        "outputId": "2fa98318-0443-4885-c2ed-dc37080dd117"
      },
      "outputs": [
        {
          "output_type": "stream",
          "name": "stdout",
          "text": [
            "Drive already mounted at /content/drive; to attempt to forcibly remount, call drive.mount(\"/content/drive\", force_remount=True).\n"
          ]
        }
      ],
      "source": [
        "from google.colab import drive\n",
        "drive.mount('/content/drive')"
      ]
    },
    {
      "cell_type": "code",
      "execution_count": null,
      "metadata": {
        "colab": {
          "base_uri": "https://localhost:8080/"
        },
        "id": "7Q4rTD3QYat4",
        "outputId": "da0c0289-65aa-4e9c-b09f-74e43419a1d3"
      },
      "outputs": [
        {
          "output_type": "stream",
          "name": "stdout",
          "text": [
            "total Validation Dataset0.2 images: 100\n",
            "total Validation Def images: 100\n",
            "total Training Dataset0.2 images: 100\n",
            "total Training Def images: 100\n"
          ]
        }
      ],
      "source": [
        "import os\n",
        "print('total Validation Dataset0.2 images:', len(os.listdir('/content/drive/My Drive/Dataset/valid/Dataset0.2')))\n",
        "print('total Validation Def images:', len(os.listdir('/content/drive/My Drive/Dataset/valid/Def')))\n",
        "print('total Training Dataset0.2 images:', len(os.listdir('/content/drive/My Drive/Dataset/train/Dataset0.2')))\n",
        "print('total Training Def images:', len(os.listdir('/content/drive/My Drive/Dataset/train/Def')))"
      ]
    },
    {
      "cell_type": "code",
      "execution_count": null,
      "metadata": {
        "id": "IVQ7yynAYgtD"
      },
      "outputs": [],
      "source": [
        "train_dir = '/content/drive/My Drive/Dataset/train'\n",
        "validation_dir = '/content/drive/My Drive/Dataset/valid'"
      ]
    },
    {
      "cell_type": "code",
      "execution_count": null,
      "metadata": {
        "id": "J245VnjgYlhZ"
      },
      "outputs": [],
      "source": [
        "from tensorflow.keras.models import Sequential\n",
        "from keras import layers\n",
        "from tensorflow.keras.layers import Dense,Conv2D,Flatten,MaxPooling2D\n",
        "from tensorflow.keras.callbacks import EarlyStopping,ReduceLROnPlateau\n",
        "model = Sequential()\n",
        "model.add(layers.Conv2D(256, (3, 3), activation='relu',input_shape=(227, 227, 3)))\n",
        "model.add(layers.MaxPooling2D((3, 3)))\n",
        "model.add(layers.Conv2D(64, (3, 3), activation='relu'))\n",
        "model.add(layers.MaxPooling2D((3, 3)))\n",
        "model.add(layers.Flatten())\n",
        "model.add(layers.Dense(256, activation='sigmoid'))\n",
        "model.add(layers.Dense(2, activation='softmax'))"
      ]
    },
    {
      "cell_type": "code",
      "execution_count": null,
      "metadata": {
        "colab": {
          "base_uri": "https://localhost:8080/"
        },
        "id": "3E6m8oN6Yrnf",
        "outputId": "87caed7e-5430-46f9-e894-f91c194e0ba7"
      },
      "outputs": [
        {
          "output_type": "stream",
          "name": "stdout",
          "text": [
            "Model: \"sequential\"\n",
            "_________________________________________________________________\n",
            " Layer (type)                Output Shape              Param #   \n",
            "=================================================================\n",
            " conv2d (Conv2D)             (None, 225, 225, 256)     7168      \n",
            "                                                                 \n",
            " max_pooling2d (MaxPooling2  (None, 75, 75, 256)       0         \n",
            " D)                                                              \n",
            "                                                                 \n",
            " conv2d_1 (Conv2D)           (None, 73, 73, 64)        147520    \n",
            "                                                                 \n",
            " max_pooling2d_1 (MaxPoolin  (None, 24, 24, 64)        0         \n",
            " g2D)                                                            \n",
            "                                                                 \n",
            " flatten (Flatten)           (None, 36864)             0         \n",
            "                                                                 \n",
            " dense (Dense)               (None, 256)               9437440   \n",
            "                                                                 \n",
            " dense_1 (Dense)             (None, 2)                 514       \n",
            "                                                                 \n",
            "=================================================================\n",
            "Total params: 9592642 (36.59 MB)\n",
            "Trainable params: 9592642 (36.59 MB)\n",
            "Non-trainable params: 0 (0.00 Byte)\n",
            "_________________________________________________________________\n"
          ]
        }
      ],
      "source": [
        "model.summary()"
      ]
    },
    {
      "cell_type": "code",
      "execution_count": null,
      "metadata": {
        "colab": {
          "base_uri": "https://localhost:8080/"
        },
        "id": "NiPJvxIwYypF",
        "outputId": "0cf59204-4b2d-4861-d3d6-d12118320f23"
      },
      "outputs": [
        {
          "output_type": "stream",
          "name": "stdout",
          "text": [
            "Found 200 images belonging to 2 classes.\n",
            "Found 200 images belonging to 2 classes.\n"
          ]
        }
      ],
      "source": [
        "from keras.preprocessing.image import ImageDataGenerator\n",
        "train_datagen = ImageDataGenerator(rescale=1./255,\n",
        "                                   rotation_range=10,\n",
        "                                   zoom_range=0.4,\n",
        "                                   horizontal_flip=True,\n",
        "                                   vertical_flip=True,\n",
        "                                   fill_mode='nearest')\n",
        "Val_datagen = ImageDataGenerator(rescale=1./255)\n",
        "train_generator = train_datagen.flow_from_directory(\n",
        "    train_dir,\n",
        "    target_size=(227, 227),\n",
        "    batch_size=1,\n",
        "    class_mode='categorical')\n",
        "validation_generator = Val_datagen.flow_from_directory(\n",
        "    validation_dir,\n",
        "    target_size=(227, 227),\n",
        "    batch_size=1,\n",
        "    class_mode='categorical')"
      ]
    },
    {
      "cell_type": "code",
      "execution_count": null,
      "metadata": {
        "colab": {
          "base_uri": "https://localhost:8080/"
        },
        "id": "YARNUrxkY5KO",
        "outputId": "4e9f6480-55d3-4168-e9c1-40f5e8dffea6"
      },
      "outputs": [
        {
          "name": "stdout",
          "output_type": "stream",
          "text": [
            "Epoch 1/25\n",
            "200/200 [==============================] - 246s 1s/step - loss: 0.1504 - accuracy: 0.9600 - val_loss: 4.2198e-05 - val_accuracy: 1.0000 - lr: 0.0010\n",
            "Epoch 2/25\n",
            "200/200 [==============================] - 118s 589ms/step - loss: 1.0091 - accuracy: 0.4700 - val_loss: 0.7014 - val_accuracy: 0.5000 - lr: 0.0010\n",
            "Epoch 3/25\n",
            "200/200 [==============================] - 119s 596ms/step - loss: 0.7334 - accuracy: 0.5350 - val_loss: 0.6994 - val_accuracy: 0.5000 - lr: 0.0010\n"
          ]
        }
      ],
      "source": [
        "early = EarlyStopping(monitor='val_loss', mode='min', patience=2)\n",
        "learning_rate_reduction = ReduceLROnPlateau(monitor='val_loss', min_lr=0.000001)\n",
        "callbacks_list = [ early, learning_rate_reduction]\n",
        "model.compile(optimizer = 'adam', loss = 'categorical_crossentropy', metrics = ['accuracy'])\n",
        "history = model.fit(train_generator, epochs=25, validation_data=validation_generator, callbacks=callbacks_list)"
      ]
    },
    {
      "cell_type": "code",
      "execution_count": null,
      "metadata": {
        "colab": {
          "base_uri": "https://localhost:8080/"
        },
        "id": "0N90uAcpbsLf",
        "outputId": "1a5e0e00-1d6f-43fd-a61d-0b173963d947"
      },
      "outputs": [
        {
          "output_type": "stream",
          "name": "stdout",
          "text": [
            "Saved model to disk\n"
          ]
        }
      ],
      "source": [
        "model.save_weights(\"model.h5\")\n",
        "print(\"Saved model to disk\")"
      ]
    },
    {
      "cell_type": "code",
      "execution_count": null,
      "metadata": {
        "id": "PnTkEqRAbyEc"
      },
      "outputs": [],
      "source": [
        "import numpy as np\n",
        "from tensorflow.keras.preprocessing import image\n",
        "import matplotlib.pyplot as plt\n",
        "img_path='/content/drive/My Drive/Dataset/train/Def/Augmented_Image (58).png'"
      ]
    },
    {
      "cell_type": "code",
      "execution_count": null,
      "metadata": {
        "colab": {
          "base_uri": "https://localhost:8080/",
          "height": 363
        },
        "id": "Cc0Sw1t3b64g",
        "outputId": "25d97f6a-0c3a-48c9-9cd3-d6e5be5c5021"
      },
      "outputs": [
        {
          "output_type": "display_data",
          "data": {
            "text/plain": [
              "<Figure size 640x480 with 1 Axes>"
            ],
            "image/png": "[encoded data removed]"
          },
          "metadata": {}
        },
        {
          "output_type": "stream",
          "name": "stdout",
          "text": [
            "1/1 [==============================] - 0s 319ms/step\n",
            "[[0.5127659 0.4872341]]\n"
          ]
        }
      ],
      "source": [
        "img = image.load_img(img_path, target_size=(227, 227))\n",
        "plt.imshow(img)\n",
        "plt.show()\n",
        "img = image.img_to_array(img)\n",
        "x = np.expand_dims(img, axis=0) * 1./255\n",
        "score = model.predict(x)\n",
        "print(score)"
      ]
    }
  ],
  "metadata": {
    "colab": {
      "provenance": []
    },
    "kernelspec": {
      "display_name": "Python 3",
      "name": "python3"
    },
    "language_info": {
      "name": "python"
    }
  },
  "nbformat": 4,
  "nbformat_minor": 0
}